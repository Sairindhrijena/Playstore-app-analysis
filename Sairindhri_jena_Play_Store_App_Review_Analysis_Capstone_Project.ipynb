{
  "nbformat": 4,
  "nbformat_minor": 0,
  "metadata": {
    "kernelspec": {
      "display_name": "Python 3",
      "language": "python",
      "name": "python3"
    },
    "language_info": {
      "codemirror_mode": {
        "name": "ipython",
        "version": 3
      },
      "file_extension": ".py",
      "mimetype": "text/x-python",
      "name": "python",
      "nbconvert_exporter": "python",
      "pygments_lexer": "ipython3",
      "version": "3.6.6"
    },
    "colab": {
      "provenance": [],
      "collapsed_sections": [],
      "include_colab_link": true
    }
  },
  "cells": [
    {
      "cell_type": "markdown",
      "metadata": {
        "id": "view-in-github",
        "colab_type": "text"
      },
      "source": [
        "<a href=\"https://colab.research.google.com/github/Sairindhrijena/Playstore-app-analysis/blob/main/Sairindhri_jena_Play_Store_App_Review_Analysis_Capstone_Project.ipynb\" target=\"_parent\"><img src=\"https://colab.research.google.com/assets/colab-badge.svg\" alt=\"Open In Colab\"/></a>"
      ]
    },
    {
      "cell_type": "markdown",
      "metadata": {
        "id": "Y06xIdG26kRF"
      },
      "source": [
        "## <b> The Play Store apps data has enormous potential to drive app-making businesses to success. Actionable insights can be drawn for developers to work on and capture the Android market. </b>\n",
        "\n",
        "## <b> Each app (row) has values for catergory, rating, size, and more. Another dataset contains customer reviews of the android apps.</b>\n",
        "\n",
        "## <b> Explore and analyze the data to discover key factors responsible for app engagement and success. </b>"
      ]
    },
    {
      "cell_type": "markdown",
      "source": [
        "**Hi Everyone !**"
      ],
      "metadata": {
        "id": "l5Mu0qQBSjTi"
      }
    },
    {
      "cell_type": "markdown",
      "source": [
        "**Now a days real life activities are simplified by the playstore apps,those designed on the basis of reliability and thoughtful implementation of realtime daily use datas,analysed by developer.**"
      ],
      "metadata": {
        "id": "JpMDz7T8RJhz"
      }
    },
    {
      "cell_type": "markdown",
      "source": [
        "**The user interface of playstore app designed such a way to evaluate the category for you,top charts,kids in the appstore header and games,apps,offers,books ewtc routed buttons in the footer.**"
      ],
      "metadata": {
        "id": "SJiVVgOfSd8b"
      }
    },
    {
      "cell_type": "markdown",
      "source": [
        "**On scrolling the body in Playstore we can manipulate apps on the basis of our search,recommendation,editior's choice basis**"
      ],
      "metadata": {
        "id": "vzhmUXIjTw1m"
      }
    },
    {
      "cell_type": "markdown",
      "source": [
        "**PROBLEM STATEMENTS**"
      ],
      "metadata": {
        "id": "YlSegGBcW7XC"
      }
    },
    {
      "cell_type": "markdown",
      "source": [
        "\n",
        "\n",
        "1.   Which are the costly app in playstore ?\n",
        "2.   What are the top downloaded apps in playstore?\n",
        "\n",
        "1.   Which are the apps with highest number of reviews?\n",
        "2.   What are the count of apps in different genres ?\n",
        "\n",
        "1.   Which category of apps from the content rating columns are found more on playstore ?\n",
        "2.   What are the majority of apps paid or free ?\n",
        "\n",
        "1.   Which category of apps have most number of installations?\n",
        "\n",
        "\n",
        "\n",
        "\n",
        "\n",
        "\n",
        "\n",
        "\n",
        "\n",
        "\n",
        "\n",
        "\n",
        "\n",
        "\n",
        "  "
      ],
      "metadata": {
        "id": "Uu_ffGwngkof"
      }
    },
    {
      "cell_type": "markdown",
      "source": [
        "\n",
        "\n",
        "\n",
        "\n",
        "**EXPLORING PLAYSTORE DATA**"
      ],
      "metadata": {
        "id": "e0_o6-TlYTEl"
      }
    },
    {
      "cell_type": "code",
      "source": [
        "#importing important libraries\n",
        "import pandas as pd\n",
        "import numpy as np\n",
        "import seaborn as sns\n",
        "import matplotlib.pyplot as plt\n",
        "%matplotlib inline"
      ],
      "metadata": {
        "id": "15s3L-PeaPC9"
      },
      "execution_count": null,
      "outputs": []
    },
    {
      "cell_type": "markdown",
      "source": [
        "**EXPLORING PLAYSTORE DATAFRAME**"
      ],
      "metadata": {
        "id": "my1rt2RKZ8pI"
      }
    },
    {
      "cell_type": "code",
      "source": [
        "from google.colab import drive\n",
        "drive.mount('/content/drive')"
      ],
      "metadata": {
        "colab": {
          "base_uri": "https://localhost:8080/"
        },
        "id": "LrnXgDaPGD6m",
        "outputId": "745bf274-8441-4ebb-cd99-6a08f4b99da5"
      },
      "execution_count": null,
      "outputs": [
        {
          "output_type": "stream",
          "name": "stdout",
          "text": [
            "Drive already mounted at /content/drive; to attempt to forcibly remount, call drive.mount(\"/content/drive\", force_remount=True).\n"
          ]
        }
      ]
    },
    {
      "cell_type": "markdown",
      "source": [
        "**Creation of path variable**"
      ],
      "metadata": {
        "id": "5mPPcMNVgTzl"
      }
    },
    {
      "cell_type": "code",
      "source": [
        "playstore_data_path=\"/content/drive/MyDrive/EDA CAPSTONE PROJECT/Play Store Data .csv\n",
        "playstore_df=pd.read_csv(playstore_data_path)\n",
        "user_reviews_path=\"/content/drive/MyDrive/EDA CAPSTONE PROJECT/User Reviews .csv\n",
        "user_reviews_df=pd.read_csv(user_reviews_path)"
      ],
      "metadata": {
        "id": "Rz7S3Z3ofrkX",
        "colab": {
          "base_uri": "https://localhost:8080/",
          "height": 165
        },
        "outputId": "97fa3b75-5611-4176-8670-4183658ec9d8"
      },
      "execution_count": null,
      "outputs": [
        {
          "output_type": "error",
          "ename": "SyntaxError",
          "evalue": "ignored",
          "traceback": [
            "\u001b[0;36m  File \u001b[0;32m\"<ipython-input-22-86643b2cf52e>\"\u001b[0;36m, line \u001b[0;32m1\u001b[0m\n\u001b[0;31m    playstore_data_path=\"/content/drive/MyDrive/EDA CAPSTONE PROJECT/Play Store Data .csv\u001b[0m\n\u001b[0m                                                                                         ^\u001b[0m\n\u001b[0;31mSyntaxError\u001b[0m\u001b[0;31m:\u001b[0m EOL while scanning string literal\n"
          ]
        }
      ]
    },
    {
      "cell_type": "code",
      "source": [
        "playstore_df.head()"
      ],
      "metadata": {
        "id": "3S--Xx6DuK99",
        "outputId": "ee6386f8-f86c-4ff5-f833-f1069acedec8",
        "colab": {
          "base_uri": "https://localhost:8080/",
          "height": 165
        }
      },
      "execution_count": null,
      "outputs": [
        {
          "output_type": "error",
          "ename": "NameError",
          "evalue": "ignored",
          "traceback": [
            "\u001b[0;31m---------------------------------------------------------------------------\u001b[0m",
            "\u001b[0;31mNameError\u001b[0m                                 Traceback (most recent call last)",
            "\u001b[0;32m<ipython-input-11-2e1927ae62b4>\u001b[0m in \u001b[0;36m<module>\u001b[0;34m\u001b[0m\n\u001b[0;32m----> 1\u001b[0;31m \u001b[0mplaystore_df\u001b[0m\u001b[0;34m.\u001b[0m\u001b[0mhead\u001b[0m\u001b[0;34m(\u001b[0m\u001b[0;34m)\u001b[0m\u001b[0;34m\u001b[0m\u001b[0;34m\u001b[0m\u001b[0m\n\u001b[0m",
            "\u001b[0;31mNameError\u001b[0m: name 'playstore_df' is not defined"
          ]
        }
      ]
    },
    {
      "cell_type": "code",
      "source": [
        "playstore_df.info()"
      ],
      "metadata": {
        "id": "BFuzdBjMynsy"
      },
      "execution_count": null,
      "outputs": []
    },
    {
      "cell_type": "code",
      "source": [
        "playstore_df.columns"
      ],
      "metadata": {
        "id": "t8BsT2hezch6"
      },
      "execution_count": null,
      "outputs": []
    },
    {
      "cell_type": "code",
      "source": [
        "playstore_df.describe()"
      ],
      "metadata": {
        "id": "8xYrnUKvy63D"
      },
      "execution_count": null,
      "outputs": []
    },
    {
      "cell_type": "markdown",
      "source": [
        "**Does the dataframe contains any Nan value?**"
      ],
      "metadata": {
        "id": "3f-VB8FF1039"
      }
    },
    {
      "cell_type": "code",
      "source": [
        "playstore_df.isnull().sum()"
      ],
      "metadata": {
        "id": "5imVwfh11tjt"
      },
      "execution_count": null,
      "outputs": []
    },
    {
      "cell_type": "markdown",
      "source": [
        "**We can see that we have some missing values in the dataset. Lets have a detailed look of the missing values in the dataframe.*\n",
        "\n"
      ],
      "metadata": {
        "id": "pwvz7mlx2UVG"
      }
    },
    {
      "cell_type": "markdown",
      "source": [
        "Let's define a function to view some more insights of the dataset."
      ],
      "metadata": {
        "id": "nKxEchPL2iS-"
      }
    },
    {
      "cell_type": "code",
      "source": [
        "def printinfo():\n",
        "    temp = pd.DataFrame(index=playstore_df.columns)\n",
        "    temp['data_type'] = playstore_df.dtypes\n",
        "    temp['null_count'] = playstore_df.isnull().sum()\n",
        "    temp['unique_count'] = playstore_df.nunique()\n",
        "    return temp"
      ],
      "metadata": {
        "id": "9DVfOznS23PY"
      },
      "execution_count": null,
      "outputs": []
    },
    {
      "cell_type": "code",
      "source": [
        "printinfo()"
      ],
      "metadata": {
        "id": "ehW0YN2L3dvq"
      },
      "execution_count": null,
      "outputs": []
    },
    {
      "cell_type": "markdown",
      "source": [
        "**Let's have a look at the rows of the column Rating having NULL values**"
      ],
      "metadata": {
        "id": "PWHveex_3scr"
      }
    },
    {
      "cell_type": "code",
      "source": [
        "playstore_df[playstore_df.Rating.isnull()]"
      ],
      "metadata": {
        "id": "78kO6uXi31aC"
      },
      "execution_count": null,
      "outputs": []
    },
    {
      "cell_type": "markdown",
      "source": [
        "**Let's have a look at the rows of the column Type having NULL values**\n"
      ],
      "metadata": {
        "id": "Xz8T7S9h4Qi4"
      }
    },
    {
      "cell_type": "code",
      "source": [
        "playstore_df[playstore_df.Type.isnull()]"
      ],
      "metadata": {
        "id": "fs8TDLo04UdS"
      },
      "execution_count": null,
      "outputs": []
    },
    {
      "cell_type": "markdown",
      "source": [
        "**Since there is only one value missing in the Type column**\n",
        "       \n",
        "       \n",
        "So, Lets fill the missing value, After cross-checking in the playstore the missing value is found to be Free, So Now we can fill the missing value with free."
      ],
      "metadata": {
        "id": "1m1RteJB46LX"
      }
    },
    {
      "cell_type": "code",
      "source": [
        "playstore_df['Type'].fillna(\"Free\", inplace = True)"
      ],
      "metadata": {
        "id": "IUgL_IhO5IgG"
      },
      "execution_count": null,
      "outputs": []
    },
    {
      "cell_type": "code",
      "source": [
        "playstore_df.isnull().sum()"
      ],
      "metadata": {
        "id": "X9YLBSo65dqi"
      },
      "execution_count": null,
      "outputs": []
    },
    {
      "cell_type": "markdown",
      "source": [
        "**Let's have a look at the rows of the column Content Rating having NULL value**"
      ],
      "metadata": {
        "id": "WI2J1tmX52d4"
      }
    },
    {
      "cell_type": "code",
      "source": [
        "playstore_df[playstore_df['Content Rating'].isnull()]\n"
      ],
      "metadata": {
        "id": "07HZ3hD55-lz"
      },
      "execution_count": null,
      "outputs": []
    },
    {
      "cell_type": "code",
      "source": [
        "playstore_df.loc[10468:10477, :]"
      ],
      "metadata": {
        "id": "TXum_t4r6TFW"
      },
      "execution_count": null,
      "outputs": []
    },
    {
      "cell_type": "code",
      "source": [
        "playstore_df.dropna(subset = ['Content Rating'], inplace=True)"
      ],
      "metadata": {
        "id": "29U0kZkC7GAy"
      },
      "execution_count": null,
      "outputs": []
    },
    {
      "cell_type": "markdown",
      "source": [
        "**We can drop the unwanted columns**"
      ],
      "metadata": {
        "id": "IF3s37mN7RW8"
      }
    },
    {
      "cell_type": "code",
      "source": [
        "playstore_df.drop(['Current Ver','Last Updated', 'Android Ver'], axis=1, inplace=True)\n"
      ],
      "metadata": {
        "id": "4YZCBXNy7Qk2"
      },
      "execution_count": null,
      "outputs": []
    },
    {
      "cell_type": "code",
      "source": [
        "playstore_df.head()"
      ],
      "metadata": {
        "id": "Zf23skSH7n-O"
      },
      "execution_count": null,
      "outputs": []
    },
    {
      "cell_type": "markdown",
      "source": [
        "**Let us replace the missing values of the Rating Column with the Mode value of that entire column.**"
      ],
      "metadata": {
        "id": "Lr9jBT7O9EWS"
      }
    },
    {
      "cell_type": "code",
      "source": [
        "modeValueRating = playstore_df['Rating'].mode()"
      ],
      "metadata": {
        "id": "HVFFwkRq9fEx"
      },
      "execution_count": null,
      "outputs": []
    },
    {
      "cell_type": "code",
      "source": [
        "modeValueRating[0]"
      ],
      "metadata": {
        "id": "PKcU7n109qG9"
      },
      "execution_count": null,
      "outputs": []
    },
    {
      "cell_type": "code",
      "source": [
        "playstore_df['Rating'].fillna(value=modeValueRating[0], inplace = True)"
      ],
      "metadata": {
        "id": "_22z-oia9vvI"
      },
      "execution_count": null,
      "outputs": []
    },
    {
      "cell_type": "code",
      "source": [
        "printinfo()"
      ],
      "metadata": {
        "id": "2eAiDCw495F_"
      },
      "execution_count": null,
      "outputs": []
    },
    {
      "cell_type": "markdown",
      "source": [
        "Now we are done with the data cleansing part and in a state to start the work for data preparation"
      ],
      "metadata": {
        "id": "zsPVbCYh-NO5"
      }
    },
    {
      "cell_type": "markdown",
      "source": [
        "Firstly, we need to convert the data types with their respective actual type\n",
        "Reviews, Size, Installs, & Price should have an integer or float datatype, But here we can see of object type, So let's convert them to their respective type."
      ],
      "metadata": {
        "id": "Olltkd_1-RWL"
      }
    },
    {
      "cell_type": "markdown",
      "source": [
        "**Column: Reviews**"
      ],
      "metadata": {
        "id": "R79cXplq-tIb"
      }
    },
    {
      "cell_type": "markdown",
      "source": [
        "Converting the Reviews column to integer."
      ],
      "metadata": {
        "id": "DmTLE-S--w96"
      }
    },
    {
      "cell_type": "code",
      "source": [
        "playstore_df['Reviews'] = playstore_df.Reviews.astype(int)"
      ],
      "metadata": {
        "id": "5viSloaY-5t6"
      },
      "execution_count": null,
      "outputs": []
    },
    {
      "cell_type": "code",
      "source": [
        "printinfo()"
      ],
      "metadata": {
        "id": "XDIL8Ab-_E_T"
      },
      "execution_count": null,
      "outputs": []
    },
    {
      "cell_type": "markdown",
      "source": [
        "**Column: Size**"
      ],
      "metadata": {
        "id": "dbcfwe4s_RF6"
      }
    },
    {
      "cell_type": "markdown",
      "source": [
        "Converting the Size Column from object to integer."
      ],
      "metadata": {
        "id": "gRWH_4PO_WhK"
      }
    },
    {
      "cell_type": "markdown",
      "source": [
        "Removing the + Symbol"
      ],
      "metadata": {
        "id": "x7fGtaN3_qda"
      }
    },
    {
      "cell_type": "code",
      "source": [
        "playstore_df['Size'] = playstore_df.Size.apply(lambda x: x.strip('+'))\n"
      ],
      "metadata": {
        "id": "w0tfI7LS_P4j"
      },
      "execution_count": null,
      "outputs": []
    },
    {
      "cell_type": "markdown",
      "source": [
        "Removing the , Symbol"
      ],
      "metadata": {
        "id": "rmb4dYBGAEbp"
      }
    },
    {
      "cell_type": "code",
      "source": [
        "playstore_df['Size'] = playstore_df.Size.apply(lambda x: x.replace(',', ''))\n"
      ],
      "metadata": {
        "id": "nv_ZN-RHAPLC"
      },
      "execution_count": null,
      "outputs": []
    },
    {
      "cell_type": "markdown",
      "source": [
        "Replacing the M by multiplying the value with 1000000"
      ],
      "metadata": {
        "id": "BswZpbD5AiFY"
      }
    },
    {
      "cell_type": "code",
      "source": [
        "playstore_df['Size'] = playstore_df.Size.apply(lambda x: x.replace('M', 'e+6'))\n"
      ],
      "metadata": {
        "id": "kqF5yzEMAsJx"
      },
      "execution_count": null,
      "outputs": []
    },
    {
      "cell_type": "markdown",
      "source": [
        "Replacing the k by multiplying the value with 1000."
      ],
      "metadata": {
        "id": "IR9cjbUsA4s2"
      }
    },
    {
      "cell_type": "code",
      "source": [
        "playstore_df['Size'] = playstore_df.Size.apply(lambda x: x.replace('k', 'e+3'))\n"
      ],
      "metadata": {
        "id": "G1_rrD9kA_lG"
      },
      "execution_count": null,
      "outputs": []
    },
    {
      "cell_type": "markdown",
      "source": [
        "Replacing the Varies with device value with Nan."
      ],
      "metadata": {
        "id": "UKa7mPr2BNpx"
      }
    },
    {
      "cell_type": "code",
      "source": [
        "playstore_df['Size'] = playstore_df.Size.replace('Varies with device', np.NaN)\n"
      ],
      "metadata": {
        "id": "yhyL0sImBSr4"
      },
      "execution_count": null,
      "outputs": []
    },
    {
      "cell_type": "markdown",
      "source": [
        "Finally converting to Numeric type."
      ],
      "metadata": {
        "id": "A0az2wwtBis4"
      }
    },
    {
      "cell_type": "code",
      "source": [
        "playstore_df['Size'] = pd.to_numeric(playstore_df['Size'])"
      ],
      "metadata": {
        "id": "Xmx8dpqeBqdA"
      },
      "execution_count": null,
      "outputs": []
    },
    {
      "cell_type": "code",
      "source": [
        "printinfo()"
      ],
      "metadata": {
        "id": "oeOpXxttB8Go"
      },
      "execution_count": null,
      "outputs": []
    },
    {
      "cell_type": "code",
      "source": [
        "playstore_df.dropna(subset = ['Size'], inplace=True)"
      ],
      "metadata": {
        "id": "1ujRUP5wCUIo"
      },
      "execution_count": null,
      "outputs": []
    },
    {
      "cell_type": "code",
      "source": [
        "printinfo()"
      ],
      "metadata": {
        "id": "acv1VBukCeLg"
      },
      "execution_count": null,
      "outputs": []
    },
    {
      "cell_type": "markdown",
      "source": [
        "**Column: Installs**"
      ],
      "metadata": {
        "id": "gx3nRUdiCzGx"
      }
    },
    {
      "cell_type": "markdown",
      "source": [
        "Converting the Installs column from object to integer"
      ],
      "metadata": {
        "id": "KPfPm-pRC8qP"
      }
    },
    {
      "cell_type": "markdown",
      "source": [
        "First of all we will need to remove the + symbol from the values"
      ],
      "metadata": {
        "id": "B5HT8d3yDBOX"
      }
    },
    {
      "cell_type": "code",
      "source": [
        "playstore_df['Installs'] = playstore_df.Installs.apply(lambda x: x.strip('+'))\n"
      ],
      "metadata": {
        "id": "Y8tBAH_jDGbv"
      },
      "execution_count": null,
      "outputs": []
    },
    {
      "cell_type": "markdown",
      "source": [
        "Then let's remove the , from the numbers."
      ],
      "metadata": {
        "id": "htJm7uylDTrr"
      }
    },
    {
      "cell_type": "code",
      "source": [
        "playstore_df['Installs'] = playstore_df.Installs.apply(lambda x: x.replace(',', ''))\n"
      ],
      "metadata": {
        "id": "9q92C6g5Dn1d"
      },
      "execution_count": null,
      "outputs": []
    },
    {
      "cell_type": "markdown",
      "source": [
        "Lastly we will need to convert it from string type to numeric type"
      ],
      "metadata": {
        "id": "Dg-K33b4D0zB"
      }
    },
    {
      "cell_type": "code",
      "source": [
        "playstore_df['Installs'] = pd.to_numeric(playstore_df['Installs'])"
      ],
      "metadata": {
        "id": "Tp9AWVSyD46D"
      },
      "execution_count": null,
      "outputs": []
    },
    {
      "cell_type": "code",
      "source": [
        "printinfo()"
      ],
      "metadata": {
        "id": "3lJETIcWECZi"
      },
      "execution_count": null,
      "outputs": []
    },
    {
      "cell_type": "markdown",
      "source": [
        "**Column: Price**"
      ],
      "metadata": {
        "id": "nwJfNPw7EXmn"
      }
    },
    {
      "cell_type": "markdown",
      "source": [
        "Converting the Price column from objectto numeric"
      ],
      "metadata": {
        "id": "l0xczf5JEerI"
      }
    },
    {
      "cell_type": "markdown",
      "source": [
        "Let us have a look at the unique values of the column."
      ],
      "metadata": {
        "id": "coilfZAYEfsI"
      }
    },
    {
      "cell_type": "code",
      "source": [
        "playstore_df['Price'].value_counts()"
      ],
      "metadata": {
        "id": "8OQWS6I7ElGB"
      },
      "execution_count": null,
      "outputs": []
    },
    {
      "cell_type": "markdown",
      "source": [
        "We can remove the $ symbol from those values"
      ],
      "metadata": {
        "id": "073nlT5cE2ti"
      }
    },
    {
      "cell_type": "code",
      "source": [
        "playstore_df['Price'] = playstore_df.Price.apply(lambda x: x.strip('$'))"
      ],
      "metadata": {
        "id": "haCsdvjWE7Re"
      },
      "execution_count": null,
      "outputs": []
    },
    {
      "cell_type": "markdown",
      "source": [
        "Now we can convert the values to Numeric type."
      ],
      "metadata": {
        "id": "7ARtd7amFEKP"
      }
    },
    {
      "cell_type": "code",
      "source": [
        "playstore_df['Price'] = pd.to_numeric(playstore_df['Price'])"
      ],
      "metadata": {
        "id": "cnsIj7n5FIS3"
      },
      "execution_count": null,
      "outputs": []
    },
    {
      "cell_type": "code",
      "source": [
        "printinfo()"
      ],
      "metadata": {
        "id": "EnlDX1RkFT2z"
      },
      "execution_count": null,
      "outputs": []
    },
    {
      "cell_type": "code",
      "source": [
        "playstore_df.describe()"
      ],
      "metadata": {
        "id": "rr83HCV4Fo9k"
      },
      "execution_count": null,
      "outputs": []
    },
    {
      "cell_type": "markdown",
      "source": [
        "**EXPLORATORY DATA ANALYSIS AND VISUALIZATION**"
      ],
      "metadata": {
        "id": "SdipShc_GCmX"
      }
    },
    {
      "cell_type": "markdown",
      "source": [
        "Let's begin by importingmatplotlib.pyplot and seaborn."
      ],
      "metadata": {
        "id": "fu4jVxOlGa5w"
      }
    },
    {
      "cell_type": "code",
      "source": [
        "import seaborn as sns\n",
        "import matplotlib\n",
        "import matplotlib.pyplot as plt\n",
        "%matplotlib inline\n",
        "\n",
        "sns.set_style('darkgrid')\n",
        "matplotlib.rcParams['font.size'] = 14\n",
        "matplotlib.rcParams['figure.figsize'] = (9, 5)\n",
        "matplotlib.rcParams['figure.facecolor']= '#00000000'"
      ],
      "metadata": {
        "id": "KsfW_XWbGhgB"
      },
      "execution_count": null,
      "outputs": []
    },
    {
      "cell_type": "markdown",
      "source": [
        "Let's first of all explore the column of object type."
      ],
      "metadata": {
        "id": "jOwxM6AuH7_Q"
      }
    },
    {
      "cell_type": "code",
      "source": [
        "printinfo()"
      ],
      "metadata": {
        "id": "a-luZc5QIVqI"
      },
      "execution_count": null,
      "outputs": []
    },
    {
      "cell_type": "markdown",
      "source": [
        "Can we see all the categories from the Category column."
      ],
      "metadata": {
        "id": "nFRjB25uKu4s"
      }
    },
    {
      "cell_type": "code",
      "source": [
        "playstore_df['Category'].value_counts()"
      ],
      "metadata": {
        "id": "zo_Dq2geKy-N"
      },
      "execution_count": null,
      "outputs": []
    },
    {
      "cell_type": "markdown",
      "source": [
        "Let's Plot it and have a visual look."
      ],
      "metadata": {
        "id": "Stxcx3pKK82V"
      }
    },
    {
      "cell_type": "code",
      "source": [
        "y = playstore_df['Category'].value_counts().index\n",
        "x = playstore_df['Category'].value_counts()\n",
        "xlist = []\n",
        "ylist = []\n",
        "for i in range(len(x)):\n",
        "    xlist.append(x[i])\n",
        "    ylist.append(y[i])"
      ],
      "metadata": {
        "id": "0aBy_ZOrLAa_"
      },
      "execution_count": null,
      "outputs": []
    },
    {
      "cell_type": "code",
      "source": [
        "plt.figure(figsize=(18,13))\n",
        "plt.xlabel(\"Count\")\n",
        "plt.ylabel(\"Category\")\n",
        "\n",
        "graph = sns.barplot(x = xlist, y = ylist, palette= \"husl\")\n",
        "graph.set_title(\"Top categories on Google Playstore\", fontsize = 25);"
      ],
      "metadata": {
        "id": "ritUs-L4LSt0"
      },
      "execution_count": null,
      "outputs": []
    },
    {
      "cell_type": "markdown",
      "source": [
        "Note: So there are all total 33 categories in the dataset From the above output we can come to a conclusion that in playstore most of the apps are under Family & Game category and least are of Beauty & Comics Category."
      ],
      "metadata": {
        "id": "ErzbSum_LhAC"
      }
    },
    {
      "cell_type": "markdown",
      "source": [
        "**Which category of Apps from the Content Rating column are found more on playstore**\n"
      ],
      "metadata": {
        "id": "hwX1PMjuLn4B"
      }
    },
    {
      "cell_type": "code",
      "source": [
        "x2 = playstore_df['Content Rating'].value_counts().index\n",
        "y2 = playstore_df['Content Rating'].value_counts()\n",
        "\n",
        "x2list = []\n",
        "y2list = []\n",
        "for i in range(len(x2)):\n",
        "    x2list.append(x2[i])\n",
        "    y2list.append(y2[i])"
      ],
      "metadata": {
        "id": "3Y4Y_561LvWd"
      },
      "execution_count": null,
      "outputs": []
    },
    {
      "cell_type": "code",
      "source": [
        "plt.figure(figsize=(12,10))\n",
        "plt.bar(x2list,y2list,width=0.8,color=['#15244C','#FFFF48','#292734','#EF2920','#CD202D','#ECC5F2'], alpha=0.8);\n",
        "plt.title('Content Rating',size = 20);\n",
        "plt.ylabel('Apps(Count)');\n",
        "plt.xlabel('Content Rating');"
      ],
      "metadata": {
        "id": "DbCyEulBMBFv"
      },
      "execution_count": null,
      "outputs": []
    },
    {
      "cell_type": "markdown",
      "source": [
        "Note: From the above plot we can see that Everyone category has the highest number of apps."
      ],
      "metadata": {
        "id": "nGlfkD45MQKg"
      }
    },
    {
      "cell_type": "markdown",
      "source": [
        "**Let's have a look at the distribution of the ratings the dataframe.**"
      ],
      "metadata": {
        "id": "vFzzdhiZMV9L"
      }
    },
    {
      "cell_type": "code",
      "source": [
        "playstore_df['Rating'].describe()"
      ],
      "metadata": {
        "id": "rEr0Z6-dMbhN"
      },
      "execution_count": null,
      "outputs": []
    },
    {
      "cell_type": "code",
      "source": [
        "plt.figure(figsize=(15,9))\n",
        "plt.xlabel(\"Rating\")\n",
        "plt.ylabel(\"Frequency\")\n",
        "graph = sns.kdeplot(playstore_df.Rating, color=\"Blue\", shade = True)\n",
        "plt.title('Distribution of Rating',size = 20);"
      ],
      "metadata": {
        "id": "ZtnedO_TMp1F"
      },
      "execution_count": null,
      "outputs": []
    },
    {
      "cell_type": "markdown",
      "source": [
        "Note: From the above graph we can come to a conclusion that most of the apps in google playstore are rated in between 3.5 to 4.8"
      ],
      "metadata": {
        "id": "4F94ZtkiNIF-"
      }
    },
    {
      "cell_type": "markdown",
      "source": [
        "**What are the mjority of apps paid or free ?**"
      ],
      "metadata": {
        "id": "TQ_Z1d8hNPl8"
      }
    },
    {
      "cell_type": "code",
      "source": [
        "plt.figure(figsize=(10,10))\n",
        "labels = playstore_df['Type'].value_counts(sort = True).index\n",
        "sizes = playstore_df['Type'].value_counts(sort = True)\n",
        "colors = [\"blue\",\"lightgreen\"]\n",
        "explode = (0.2,0)\n",
        "plt.pie(sizes, explode=explode, labels=labels, colors=colors, autopct='%1.1f%%', shadow=True, startangle=0)\n",
        "plt.title('Percent of Free Vs Paid Apps in store',size = 20)\n",
        "plt.show()"
      ],
      "metadata": {
        "id": "pWk0aBobNWkm"
      },
      "execution_count": null,
      "outputs": []
    },
    {
      "cell_type": "code",
      "source": [],
      "metadata": {
        "id": "TrxqtKenbUm5"
      },
      "execution_count": null,
      "outputs": []
    },
    {
      "cell_type": "markdown",
      "source": [
        "Note: From the above graph we can see that 92%(Approx.) of apps in google play store are free and 8%(Approx.) are paid.\n",
        "\n"
      ],
      "metadata": {
        "id": "mHVe1qOrNuK7"
      }
    },
    {
      "cell_type": "markdown",
      "source": [
        "**Which category of apps have most number  number of installations?**"
      ],
      "metadata": {
        "id": "0P6T1qchN12T"
      }
    },
    {
      "cell_type": "code",
      "source": [
        "highest_Installs_df = playstore_df.groupby('Category')[['Installs']].sum().sort_values(by='Installs', ascending=False)\n"
      ],
      "metadata": {
        "id": "4YrNnShFOCmE"
      },
      "execution_count": null,
      "outputs": []
    },
    {
      "cell_type": "code",
      "source": [
        "highest_Installs_df.head()"
      ],
      "metadata": {
        "id": "JUI5Q80fOL4r"
      },
      "execution_count": null,
      "outputs": []
    },
    {
      "cell_type": "code",
      "source": [
        "x2list = []\n",
        "y2list = []\n",
        "\n",
        "for i in range(len(highest_Installs_df)):\n",
        "    x2list.append(highest_Installs_df.Installs[i])\n",
        "    y2list.append(highest_Installs_df.index[i])\n",
        "\n",
        "plt.figure(figsize=(18,13))\n",
        "\n",
        "plt.xlabel(\"Installs\")\n",
        "plt.ylabel(\"Category\")\n",
        "graph = sns.barplot(x = x2list, y = y2list, alpha =0.9, palette= \"viridis\")\n",
        "graph.set_title(\"Installs\", fontsize = 25);"
      ],
      "metadata": {
        "id": "IWfQBpnhOVyW"
      },
      "execution_count": null,
      "outputs": []
    },
    {
      "cell_type": "markdown",
      "source": [
        "Note: From the above visualization, it can be interpreted that the top categories with highest installs are Game, Family, Communication, News & Magazines, & Tools."
      ],
      "metadata": {
        "id": "5dWOu3pOOqSG"
      }
    },
    {
      "cell_type": "markdown",
      "source": [
        "With the help of Data Analysis, we can answer to many questions which can't be answerd just by looking at the dataset. By querying on the dataset, and understanding the pattern and rate of growth and fall of any values we can come to many conclusions, and get insightfull information from it."
      ],
      "metadata": {
        "id": "qHL3Gk07O67T"
      }
    },
    {
      "cell_type": "markdown",
      "source": [
        "**Asking and Answering Questions**"
      ],
      "metadata": {
        "id": "CqPCG_KiO0Oc"
      }
    },
    {
      "cell_type": "markdown",
      "source": [
        "**Q1: What are the Top installed apps in any category?**"
      ],
      "metadata": {
        "id": "A19FFV26PJsl"
      }
    },
    {
      "cell_type": "code",
      "source": [
        "def findtopincategory(str):\n",
        "    str = str.upper()\n",
        "    top= playstore_df[playstore_df['Category'] == str]\n",
        "    topapps = top.sort_values(by='Installs', ascending=False).head(10)\n",
        "    # Top_Apps_in_art_and_design\n",
        "    plt.figure(figsize=(15,12))\n",
        "    plt.title('Top Installed Apps',size = 20);    \n",
        "    graph = sns.barplot(x = topapps.App, y = topapps.Installs)\n",
        "    graph.set_xticklabels(graph.get_xticklabels(), rotation= 45, horizontalalignment='right');"
      ],
      "metadata": {
        "id": "nc-kgnzEPeCe"
      },
      "execution_count": null,
      "outputs": []
    },
    {
      "cell_type": "code",
      "source": [
        "findtopincategory('Sports')"
      ],
      "metadata": {
        "id": "T63nsRM2Pqbk"
      },
      "execution_count": null,
      "outputs": []
    },
    {
      "cell_type": "markdown",
      "source": [
        "Note: From the above graph we can see that in the Sports category FIFA Soccer, and Dream League Soccee 2018 has the highest installs. In the same way we by passing different category names to the function, we can get the top 10 installed apps."
      ],
      "metadata": {
        "id": "F6e9sk8NP_GN"
      }
    },
    {
      "cell_type": "markdown",
      "source": [
        "**Q2: Which are the expensive Apps in playstore?**"
      ],
      "metadata": {
        "id": "e5invfjYQENU"
      }
    },
    {
      "cell_type": "code",
      "source": [
        "topPaidApps = playstore_df[playstore_df['Type'] == 'Paid'].sort_values(by='Price', ascending=False).head(11)\n",
        "\n"
      ],
      "metadata": {
        "id": "dXf6Ym9aQRUD"
      },
      "execution_count": null,
      "outputs": []
    },
    {
      "cell_type": "code",
      "source": [
        "topPaidApps_df = topPaidApps[['App', 'Installs']].drop(9934)"
      ],
      "metadata": {
        "id": "zyyeyvGEQdPT"
      },
      "execution_count": null,
      "outputs": []
    },
    {
      "cell_type": "code",
      "source": [
        "plt.figure(figsize=(15,12));\n",
        "plt.pie(topPaidApps_df.Installs, explode=None, labels=topPaidApps_df.App, autopct='%1.1f%%', startangle=0);\n",
        "plt.title('Top Expensive Apps Distribution',size = 20);\n",
        "plt.legend(topPaidApps_df.App, \n",
        "           loc=\"lower right\",\n",
        "           title=\"Apps\",\n",
        "           fontsize = \"xx-small\"\n",
        "          );"
      ],
      "metadata": {
        "id": "GLdtFazoQjJT"
      },
      "execution_count": null,
      "outputs": []
    },
    {
      "cell_type": "markdown",
      "source": [
        "**Q3: Which are the Apps with highest number of reviews?**"
      ],
      "metadata": {
        "id": "PRnfU0GodxbA"
      }
    },
    {
      "cell_type": "code",
      "source": [
        "Apps_with_Highest_rev = playstore_df.sort_values(by='Reviews', ascending=False).head(20)\n"
      ],
      "metadata": {
        "id": "2QARCv2JhPbu"
      },
      "execution_count": null,
      "outputs": []
    },
    {
      "cell_type": "code",
      "source": [
        "Apps_with_Highest_rev"
      ],
      "metadata": {
        "id": "_vd0tP1VhYTK"
      },
      "execution_count": null,
      "outputs": []
    },
    {
      "cell_type": "markdown",
      "source": [
        "Note: From the above dataframe we can interprete, and come to conculsion that the Apps like Clash of Clans, Subway Surfers, Clash Royale, and Candy Crush Saga has the highest number of reviews on google playstore."
      ],
      "metadata": {
        "id": "_vCPKQVzhi7-"
      }
    },
    {
      "cell_type": "markdown",
      "source": [
        "**Q4: What are the count of Apps in different genres?**"
      ],
      "metadata": {
        "id": "pedA2uZ1htkt"
      }
    },
    {
      "cell_type": "code",
      "source": [
        "topAppsinGenres = playstore_df['Genres'].value_counts().head(50)"
      ],
      "metadata": {
        "id": "rhfv10ckhzPO"
      },
      "execution_count": null,
      "outputs": []
    },
    {
      "cell_type": "code",
      "source": [
        "x3list = []\n",
        "y3list = []\n",
        "\n",
        "for i in range(len(topAppsinGenres)):\n",
        "    x3list.append(topAppsinGenres.index[i])\n",
        "    y3list.append(topAppsinGenres[i])"
      ],
      "metadata": {
        "id": "S5417h3sh67P"
      },
      "execution_count": null,
      "outputs": []
    },
    {
      "cell_type": "code",
      "source": [
        "plt.figure(figsize=(15,9))\n",
        "plt.ylabel('Genres(App Count)')\n",
        "plt.xlabel('Genres')\n",
        "graph = sns.barplot(x=x3list,y=y3list,palette=\"deep\")\n",
        "graph.set_xticklabels(graph.get_xticklabels(), rotation=90, fontsize=12)\n",
        "graph.set_title(\"Top Genres in the Playstore\", fontsize = 20);"
      ],
      "metadata": {
        "id": "TwTGI8frvJxK"
      },
      "execution_count": null,
      "outputs": []
    },
    {
      "cell_type": "markdown",
      "source": [
        "**Q5: Which are the apps that have made the highest earning?**"
      ],
      "metadata": {
        "id": "ESwv23EcvX6t"
      }
    },
    {
      "cell_type": "code",
      "source": [
        "Paid_Apps_df = playstore_df[playstore_df['Type'] == 'Paid']"
      ],
      "metadata": {
        "id": "e9gtV9iJveXJ"
      },
      "execution_count": null,
      "outputs": []
    },
    {
      "cell_type": "code",
      "source": [
        "earning_df = Paid_Apps_df[['App', 'Installs', 'Price']]"
      ],
      "metadata": {
        "id": "zFDqBo9qvk4z"
      },
      "execution_count": null,
      "outputs": []
    },
    {
      "cell_type": "code",
      "source": [
        "earning_df['Earnings'] = earning_df['Installs'] * earning_df['Price'];"
      ],
      "metadata": {
        "id": "xNbJLZRrvo0q"
      },
      "execution_count": null,
      "outputs": []
    },
    {
      "cell_type": "code",
      "source": [
        "earning_df_sorted_by_Earnings = earning_df.sort_values(by='Earnings', ascending=False).head(50)\n"
      ],
      "metadata": {
        "id": "2x4CmH_yvwCD"
      },
      "execution_count": null,
      "outputs": []
    },
    {
      "cell_type": "code",
      "source": [
        "earning_df_sorted_by_Price = earning_df_sorted_by_Earnings.sort_values(by='Price', ascending=False)"
      ],
      "metadata": {
        "id": "IefDSyDNv02l"
      },
      "execution_count": null,
      "outputs": []
    },
    {
      "cell_type": "code",
      "source": [
        "# PLot a bar chart of earning at y and app names at x\n",
        "plt.figure(figsize=(15,9))\n",
        "plt.bar(earning_df_sorted_by_Price.App, earning_df_sorted_by_Price.Earnings, width=1.1, label=earning_df_sorted_by_Price.Earnings)\n",
        "plt.xlabel(\"Apps\")\n",
        "plt.ylabel(\"Earnings\")\n",
        "plt.tick_params(rotation=90)\n",
        "plt.title(\"Top Earning Apps\");"
      ],
      "metadata": {
        "id": "TIbZI21_v4cE"
      },
      "execution_count": null,
      "outputs": []
    },
    {
      "cell_type": "markdown",
      "source": [
        "Note: The top three apps with highest earnings found on google playstore are:\n",
        "\n"
      ],
      "metadata": {
        "id": "tX5kkDoZ5v7k"
      }
    },
    {
      "cell_type": "markdown",
      "source": [
        "\n",
        "\n",
        "1.   I am Rich\n",
        "\n",
        "1.   I am Rich Premium\n",
        "2.   Hitman Sniper\n",
        "\n",
        "\n",
        "\n"
      ],
      "metadata": {
        "id": "bXnKmFdA7BmU"
      }
    },
    {
      "cell_type": "markdown",
      "source": [
        "**ANALYSYS AND CONCLUSION**"
      ],
      "metadata": {
        "id": "XJrIcMTq7xD8"
      }
    },
    {
      "cell_type": "markdown",
      "source": [
        "After Analyzing the dataset I have got answers to some of the serious & interesting question which any of the android users would love to know."
      ],
      "metadata": {
        "id": "CcVDjZQi8Jg0"
      }
    },
    {
      "cell_type": "markdown",
      "source": [
        "\n",
        "\n",
        "*   *Top categories on Google Playstore?*\n",
        "*   Which category of Content are found more?\n",
        "\n",
        "*   Distribution of the ratings of the apps?\n",
        "*   What percentage of apps are Free and Paid?\n",
        "\n",
        "*   Which category of App's have most number of installs?\n",
        "*   What are the Top 10 installed apps in different category?\n",
        "\n",
        "\n",
        "\n",
        "*   Which are the top expensive Apps?\n",
        "*   Count of Apps found in different genres?\n",
        "\n",
        "*   Which are the top expensive Apps?\n",
        "*   Which are the apps that have made the highest earning?\n",
        "\n",
        "\n",
        "\n",
        "\n",
        "\n",
        "\n",
        "\n"
      ],
      "metadata": {
        "id": "Nqdju4-I9aHM"
      }
    },
    {
      "cell_type": "markdown",
      "source": [
        "*After the completion of my project and the course I have learned and got exposure to different tools and techniques in data analysis*\n",
        " *I was able to complete the project successfully with the help of tools like Python, Pandas, Matplotlib, Numpy and Seaborn*"
      ],
      "metadata": {
        "id": "D9mYgdVi_iRs"
      }
    }
  ]
}